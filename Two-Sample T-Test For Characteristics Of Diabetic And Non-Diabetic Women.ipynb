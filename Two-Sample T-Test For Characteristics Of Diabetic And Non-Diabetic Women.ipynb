{
 "cells": [
  {
   "cell_type": "code",
   "execution_count": 7,
   "id": "990d8015",
   "metadata": {},
   "outputs": [],
   "source": [
    "import pandas as pd\n",
    "from scipy.stats import ttest_ind"
   ]
  },
  {
   "cell_type": "code",
   "execution_count": 8,
   "id": "27fd210f",
   "metadata": {},
   "outputs": [],
   "source": [
    "# loading in data\n",
    "df = pd.read_csv(\"/Users/cartermain/Downloads/diabetes.csv\")"
   ]
  },
  {
   "cell_type": "code",
   "execution_count": 9,
   "id": "d615df81",
   "metadata": {},
   "outputs": [
    {
     "name": "stdout",
     "output_type": "stream",
     "text": [
      "Pregnancies                 0\n",
      "Glucose                     0\n",
      "BloodPressure               0\n",
      "SkinThickness               0\n",
      "Insulin                     0\n",
      "BMI                         0\n",
      "DiabetesPedigreeFunction    0\n",
      "Age                         0\n",
      "Outcome                     0\n",
      "dtype: int64\n"
     ]
    }
   ],
   "source": [
    "#counting null values\n",
    "print(df.isnull().sum())"
   ]
  },
  {
   "cell_type": "markdown",
   "id": "18113015",
   "metadata": {},
   "source": [
    "Let's find which features had a signficant difference when it came to predicting diabetic outcomes which we'll do via a two-sample t-test for each."
   ]
  },
  {
   "cell_type": "code",
   "execution_count": 33,
   "id": "15c4d36e",
   "metadata": {},
   "outputs": [],
   "source": [
    "# creating a function to run a feature through a two-sample t-test and determine if the difference is signficant\n",
    "def two_sample_t_test(df, feature):\n",
    "    diabetic = df[feature][df[\"Outcome\"] == 1]\n",
    "    non_diabetic = df[feature][df[\"Outcome\"] == 0]\n",
    "    tstat, pval = ttest_ind(diabetic, non_diabetic)\n",
    "    if pval < 0.05:\n",
    "        return \"signficant\", round(pval,5)\n",
    "    else: \n",
    "        return \"insignificant\", round(pval,5)"
   ]
  },
  {
   "cell_type": "code",
   "execution_count": 34,
   "id": "ef7d31cb",
   "metadata": {},
   "outputs": [],
   "source": [
    "# collecting features to run through test\n",
    "features = df.drop(columns = \"Outcome\")"
   ]
  },
  {
   "cell_type": "code",
   "execution_count": 35,
   "id": "35383b95",
   "metadata": {},
   "outputs": [
    {
     "name": "stdout",
     "output_type": "stream",
     "text": [
      "Pregnancies: ('signficant', 0.0)\n",
      "Glucose: ('signficant', 0.0)\n",
      "BloodPressure: ('insignificant', 0.07151)\n",
      "SkinThickness: ('signficant', 0.03835)\n",
      "Insulin: ('signficant', 0.00029)\n",
      "BMI: ('signficant', 0.0)\n",
      "DiabetesPedigreeFunction: ('signficant', 0.0)\n",
      "Age: ('signficant', 0.0)\n"
     ]
    }
   ],
   "source": [
    "# running each feature through test\n",
    "for feature in features:\n",
    "    print(feature + \": \" + str(two_sample_t_test(df, feature)))"
   ]
  },
  {
   "cell_type": "markdown",
   "id": "d73e1328",
   "metadata": {},
   "source": [
    "Using 0.05 as the threshold, we can see that the difference of every feature is signficant between diabetic and non-diabetic women with the exception of Blood Pressure which was just over our threshold."
   ]
  }
 ],
 "metadata": {
  "kernelspec": {
   "display_name": "Python 3 (ipykernel)",
   "language": "python",
   "name": "python3"
  },
  "language_info": {
   "codemirror_mode": {
    "name": "ipython",
    "version": 3
   },
   "file_extension": ".py",
   "mimetype": "text/x-python",
   "name": "python",
   "nbconvert_exporter": "python",
   "pygments_lexer": "ipython3",
   "version": "3.9.7"
  }
 },
 "nbformat": 4,
 "nbformat_minor": 5
}
